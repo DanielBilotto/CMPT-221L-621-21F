{
 "cells": [
  {
   "cell_type": "markdown",
   "source": [
    "# Lab Three\n",
    "---\n",
    "\n",
    "Ok for this lab we're going to reiterate a lot of the things that we went over in class.\n",
    "\n",
    "Our Goals are:\n",
    "- Understanding Variable Types\n",
    "- Defining Variables\n",
    "- Using Conditionals\n",
    "- Using Loops\n",
    "- Creating Objects\n",
    "- Writing a function\n"
   ],
   "metadata": {}
  },
  {
   "cell_type": "markdown",
   "source": [
    "## What's the difference between Null and undefined?\r\n",
    "\r\n",
    "The difference between Null and undefined are that null is essentially nothing, like it's an object that we gave no value to on purpose. But undefined is different in that as the name  implies, it is... undefined, unlike null it's type is undefined and not an object. As well as that it equals NaN (not a number), it is declared but not yet defined."
   ],
   "metadata": {}
  },
  {
   "cell_type": "markdown",
   "source": [
    "## List the 3 Variable Types and Use Them!\r\n",
    "booleans: true or false value, can be used like: console.log(true);\r\n",
    "\r\n",
    "numbers: literally numbers, ints and floats are the same in JS, can be used like: 98 or console.log(62);\r\n",
    "\r\n",
    "strings: strings are like sentences, can be used like: \"hello world!\" or even 'hello world' ' vs \" don't matter and to print use console.log();"
   ],
   "metadata": {}
  },
  {
   "cell_type": "markdown",
   "source": [
    "## Use an If/Else If/Else Statement and a Switch Case statement\r\n",
    "\r\n",
    "let red = false;\\\r\n",
    "let blue = false;\r\n",
    "\r\n",
    "if (red) \r\n",
    "{\r\n",
    "    console.log(\"paint the walls red\");\r\n",
    "}\\\r\n",
    "else if (blue) \r\n",
    "{\r\n",
    "    console.log(\"paint the walls blue\");\r\n",
    "}\\\r\n",
    "else \r\n",
    "{\r\n",
    "    console.log(\"what color do you wanna paint the walls?\");\r\n",
    "}\r\n",
    "\r\n",
    "\r\n",
    "switch statment:\\\r\n",
    "\r\n",
    "var color = \"green\";\\\r\n",
    "switch (color) \\\r\n",
    "{\r\n",
    "    \r\n",
    "    case: \"red\":\r\n",
    "        console.log(\"I use to not like red all that much but since coming to Marist, my wardrobe has received a lot more red clothes and I have more respect for the color\");\r\n",
    "    break;\r\n",
    "    \r\n",
    "    case: \"blue\":\r\n",
    "        console.log(\"blue is my second favorite color!\");\r\n",
    "    break;\r\n",
    "\r\n",
    "    case: \"green\":\r\n",
    "        console.log(\"Green is my favorite color too!\");\r\n",
    "    break;\r\n",
    "\r\n",
    "}//switch"
   ],
   "metadata": {}
  },
  {
   "cell_type": "markdown",
   "source": [
    "## Use a For and a While Loop\r\n",
    "\r\n",
    "for (var i = 0; i<10; i++)\r\n",
    "\r\n",
    "{\r\n",
    "    \r\n",
    "    console.log(\"dog\");\r\n",
    "}\r\n",
    "\\\r\n",
    "dog should be printed 10 times\r\n",
    "\r\n",
    "\r\n",
    "\r\n",
    "while loops:\r\n",
    "\r\n",
    "let red = false;\r\n",
    "\r\n",
    "\r\n",
    "for (var i = 0; i<10; i++)\r\n",
    "\r\n",
    "{\r\n",
    "    while (i != 9)\r\n",
    "    \r\n",
    "    {\r\n",
    "        red = false;\r\n",
    "    }\r\n",
    "}"
   ],
   "metadata": {}
  },
  {
   "cell_type": "markdown",
   "source": [
    "## Make an object!\r\n",
    "\r\n",
    "let color = \"green\";"
   ],
   "metadata": {}
  },
  {
   "cell_type": "markdown",
   "source": [
    "## Make a function, It can do anything!\r\n",
    "\r\n",
    "funtion adding(num1, num2)\r\n",
    "\r\n",
    "{\r\n",
    "    return num1 + num2;\r\n",
    "}"
   ],
   "metadata": {}
  },
  {
   "cell_type": "markdown",
   "source": [
    "## Optional: Checkout HackerRank and try a problem in Javascript"
   ],
   "metadata": {}
  }
 ],
 "metadata": {
  "orig_nbformat": 4,
  "language_info": {
   "name": "javascript",
   "version": "10.22.0",
   "mimetype": "application/javascript",
   "file_extension": ".js"
  },
  "kernelspec": {
   "name": "javascript",
   "display_name": "Javascript (Node.js)",
   "language": "javascript"
  }
 },
 "nbformat": 4,
 "nbformat_minor": 2
}