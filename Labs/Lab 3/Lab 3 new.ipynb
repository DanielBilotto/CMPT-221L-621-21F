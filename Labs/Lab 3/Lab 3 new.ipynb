{
 "cells": [
  {
   "cell_type": "markdown",
   "metadata": {},
   "source": [
    "# Lab Three\n",
    "---\n",
    "\n",
    "Ok for this lab we're going to reiterate a lot of the things that we went over in class.\n",
    "\n",
    "Our Goals are:\n",
    "- Understanding Variable Types\n",
    "- Defining Variables\n",
    "- Using Conditionals\n",
    "- Using Loops\n",
    "- Creating Objects\n",
    "- Writing a function\n"
   ]
  },
  {
   "cell_type": "markdown",
   "metadata": {},
   "source": [
    "## What's the difference between Null and undefined?\r\n",
    "\r\n",
    "The difference between Null and undefined are that null is essentially nothing, like it's an object that we gave no value to on purpose. But undefined is different in that as the name  implies, it is... undefined, unlike null it's type is undefined and not an object. As well as that it equals NaN (not a number), it is declared but not yet defined."
   ]
  },
  {
   "cell_type": "markdown",
   "metadata": {
    "tags": []
   },
   "source": [
    "## List the 3 Variable Types and Use Them!"
   ]
  },
  {
   "cell_type": "markdown",
   "metadata": {},
   "source": [
    "strings: strings are like sentences, can be used like:"
   ]
  },
  {
   "cell_type": "code",
   "execution_count": null,
   "metadata": {},
   "outputs": [],
   "source": [
    "\"hello world!\""
   ]
  },
  {
   "cell_type": "markdown",
   "metadata": {},
   "source": [
    "booleans: true or false value, can be used like: "
   ]
  },
  {
   "cell_type": "code",
   "execution_count": 1,
   "metadata": {},
   "outputs": [
    {
     "name": "stdout",
     "output_type": "stream",
     "text": [
      "true\n"
     ]
    }
   ],
   "source": [
    "console.log(true);"
   ]
  },
  {
   "cell_type": "markdown",
   "metadata": {},
   "source": [
    "numbers: literally numbers, ints and floats are the same in JS, can be used like:"
   ]
  },
  {
   "cell_type": "code",
   "execution_count": null,
   "metadata": {},
   "outputs": [],
   "source": [
    "98"
   ]
  },
  {
   "cell_type": "markdown",
   "metadata": {
    "tags": []
   },
   "source": [
    "## Use an If/Else If/Else Statement and a Switch Case statement"
   ]
  },
  {
   "cell_type": "code",
   "execution_count": null,
   "metadata": {},
   "outputs": [],
   "source": [
    "let red = false;\\\n",
    "let blue = false;\n",
    "\n",
    "if (red) \n",
    "{\n",
    "    console.log(\"paint the walls red\");\n",
    "}\n",
    "else if (blue) \n",
    "{\n",
    "    console.log(\"paint the walls blue\");\n",
    "}\n",
    "else \n",
    "{\n",
    "    console.log(\"what color do you wanna paint the walls?\");\n",
    "}"
   ]
  },
  {
   "cell_type": "markdown",
   "metadata": {},
   "source": [
    "switch statment:"
   ]
  },
  {
   "cell_type": "code",
   "execution_count": null,
   "metadata": {},
   "outputs": [],
   "source": [
    "var color = \"green\";\n",
    "switch (color) \n",
    "{\n",
    "    \n",
    "    case: \"red\":\n",
    "        console.log(\"I use to not like red all that much but since coming to Marist, my wardrobe has received a lot more red clothes and I have more respect for the color\");\n",
    "    break;\n",
    "    \n",
    "    case: \"blue\":\n",
    "        console.log(\"blue is my second favorite color!\");\n",
    "    break;\n",
    "\n",
    "    case: \"green\":\n",
    "        console.log(\"Green is my favorite color too!\");\n",
    "    break;\n",
    "\n",
    "}//switch"
   ]
  },
  {
   "cell_type": "markdown",
   "metadata": {
    "tags": []
   },
   "source": [
    "## Use a For and a While Loop"
   ]
  },
  {
   "cell_type": "code",
   "execution_count": null,
   "metadata": {},
   "outputs": [],
   "source": [
    "for (var i = 0; i<10; i++)\n",
    "{\n",
    "    console.log(\"dog\");\n",
    "}\n",
    "\n",
    "dog should be printed 10 times"
   ]
  },
  {
   "cell_type": "markdown",
   "metadata": {},
   "source": [
    "while loops:"
   ]
  },
  {
   "cell_type": "code",
   "execution_count": null,
   "metadata": {},
   "outputs": [],
   "source": [
    "let red = false;\n",
    "\n",
    "\n",
    "for (var i = 0; i<10; i++)\n",
    "\n",
    "{\n",
    "    while (i != 9)\n",
    "    {\n",
    "        red = false;\n",
    "    }\n",
    "}"
   ]
  },
  {
   "cell_type": "markdown",
   "metadata": {},
   "source": [
    "## Make an object!"
   ]
  },
  {
   "cell_type": "code",
   "execution_count": null,
   "metadata": {},
   "outputs": [],
   "source": [
    "let color = \"green\";"
   ]
  },
  {
   "cell_type": "markdown",
   "metadata": {},
   "source": [
    "## Make a function, It can do anything!"
   ]
  },
  {
   "cell_type": "code",
   "execution_count": null,
   "metadata": {},
   "outputs": [],
   "source": [
    "funtion adding(num1, num2)\n",
    "{\n",
    "    return num1 + num2;\n",
    "}"
   ]
  },
  {
   "cell_type": "markdown",
   "metadata": {},
   "source": [
    "## Optional: Checkout HackerRank and try a problem in Javascript"
   ]
  }
 ],
 "metadata": {
  "kernelspec": {
   "display_name": "Javascript (Node.js)",
   "language": "javascript",
   "name": "javascript"
  },
  "language_info": {
   "file_extension": ".js",
   "mimetype": "application/javascript",
   "name": "javascript",
   "version": "14.17.6"
  }
 },
 "nbformat": 4,
 "nbformat_minor": 4
}
