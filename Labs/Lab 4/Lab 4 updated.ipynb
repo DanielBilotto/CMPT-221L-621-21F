{
 "cells": [
  {
   "cell_type": "markdown",
   "metadata": {},
   "source": [
    "# Lab Four\n",
    "---\n",
    "\n",
    "Ok for this lab we're going to complete our Iteration 0.\n",
    "\n",
    "Our Goals are:\n",
    "- Introduce the team\n",
    "- Define team meeting cadence, means of communication, and scheduled activities\n",
    "- Discuss means of documentation, and development\n",
    "- Create Design Specifications\n",
    "- Create Initial Backlog\n",
    "- Assign Roles (These will change since we want every one to be in every role at some point)\n"
   ]
  },
  {
   "cell_type": "markdown",
   "metadata": {},
   "source": [
    "## First things first, what's your initial idea for the project!? \n",
    "This is allowed to change and be altered but the alterations have to be approved by the shareholder! You can't just show up with a different product than you promised. That's the quickest way to not get paid! \n",
    "\n",
    "**When you have this also put it in the Slack channel that you'll make in the next step! I may not take the first idea. The channel with me will serve as a means to communicate with each other if you so choose as well as me!**"
   ]
  },
  {
   "cell_type": "markdown",
   "metadata": {},
   "source": [
    "## Once you have that come up with a team/company name! Make a slack channel with all the members of your team and Professor Kippins!\n",
    "\n",
    "\n",
    "Name is a WIP"
   ]
  },
  {
   "cell_type": "markdown",
   "metadata": {
    "tags": []
   },
   "source": [
    "## How often are we meeting for Stand ups?\n",
    "Twice a week"
   ]
  },
  {
   "cell_type": "markdown",
   "metadata": {
    "jp-MarkdownHeadingCollapsed": true,
    "tags": []
   },
   "source": [
    "## What is our iteration length? We're all locked into 2 week iterations (This ones a gimmie 😂) \n",
    "\n",
    "itereation 0"
   ]
  },
  {
   "cell_type": "markdown",
   "metadata": {},
   "source": [
    "## What is our preferred means of communication? (Slack, Email, Text, Zoom call?)\n",
    "\n",
    "email"
   ]
  },
  {
   "cell_type": "markdown",
   "metadata": {},
   "source": [
    "## What means of communication do we want for Stand Ups?\n",
    "\n",
    "email, text, webex"
   ]
  },
  {
   "cell_type": "markdown",
   "metadata": {},
   "source": [
    "## What means of communication do we want for Iteration Planning?\n",
    "\n",
    "email, text, webex"
   ]
  },
  {
   "cell_type": "markdown",
   "metadata": {},
   "source": [
    "## What means of communication do we want for Retrospectives?\n",
    "\n",
    "webex"
   ]
  },
  {
   "cell_type": "markdown",
   "metadata": {
    "tags": []
   },
   "source": [
    "# You need to have your project idea settled before you answer these!\n",
    "## Come up with your design specifications! What is your 1.0 release supposed to look like?"
   ]
  },
  {
   "cell_type": "raw",
   "metadata": {},
   "source": [
    "Very bare bones\n",
    "photos with details and information about said food\n",
    "rating/likes\n",
    "comments\n",
    "interactive\n",
    "share link?"
   ]
  },
  {
   "cell_type": "markdown",
   "metadata": {},
   "source": [
    "## Come up with a way to manage and create an initial backlog of things to do. Put the link in your Slack Channel's description as well as here!\n",
    "\n",
    "https://github.com/KenzieLippa/RecipeMania/projects/1"
   ]
  },
  {
   "cell_type": "markdown",
   "metadata": {},
   "source": [
    "## What's everyone's starting role (Choose an IM and PO everyone else is Dev)"
   ]
  },
  {
   "cell_type": "raw",
   "metadata": {},
   "source": [
    "Daniel: developer\n",
    "Fauziah: IM\n",
    "Kenzie:PO\n",
    "Emily: developer"
   ]
  }
 ],
 "metadata": {
  "interpreter": {
   "hash": "aee8b7b246df8f9039afb4144a1f6fd8d2ca17a180786b69acc140d282b71a49"
  },
  "kernelspec": {
   "display_name": "Javascript (Node.js)",
   "language": "javascript",
   "name": "javascript"
  },
  "language_info": {
   "file_extension": ".js",
   "mimetype": "application/javascript",
   "name": "javascript",
   "version": "14.17.6"
  }
 },
 "nbformat": 4,
 "nbformat_minor": 4
}
